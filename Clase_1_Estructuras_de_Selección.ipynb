{
  "nbformat": 4,
  "nbformat_minor": 0,
  "metadata": {
    "colab": {
      "provenance": [],
      "authorship_tag": "ABX9TyOR4oeAQMdoOEEIdHAvatRI",
      "include_colab_link": true
    },
    "kernelspec": {
      "name": "python3",
      "display_name": "Python 3"
    },
    "language_info": {
      "name": "python"
    }
  },
  "cells": [
    {
      "cell_type": "markdown",
      "metadata": {
        "id": "view-in-github",
        "colab_type": "text"
      },
      "source": [
        "<a href=\"https://colab.research.google.com/github/JUribe16/PROGCOM-A/blob/main/Clase_1_Estructuras_de_Selecci%C3%B3n.ipynb\" target=\"_parent\"><img src=\"https://colab.research.google.com/assets/colab-badge.svg\" alt=\"Open In Colab\"/></a>"
      ]
    },
    {
      "cell_type": "markdown",
      "source": [
        "##Estructura if-else\n",
        "\n",
        "```\n",
        "if(condicion):\n",
        "  entro aquí, si la condición es V\n",
        "else:\n",
        "  entro aquí, si la condición es F.\n",
        "```\n",
        "\n"
      ],
      "metadata": {
        "id": "qgkAOBRttd4t"
      }
    },
    {
      "cell_type": "markdown",
      "source": [],
      "metadata": {
        "id": "sF0hqWMAtm62"
      }
    },
    {
      "cell_type": "code",
      "execution_count": 2,
      "metadata": {
        "colab": {
          "base_uri": "https://localhost:8080/"
        },
        "id": "qSW75f_BtcIP",
        "outputId": "1aff894c-484f-4c3d-e29a-2955139c893a"
      },
      "outputs": [
        {
          "output_type": "stream",
          "name": "stdout",
          "text": [
            "Ingrese un numero: -1\n",
            "-1 NO es un número positivo\n"
          ]
        }
      ],
      "source": [
        "#Escribe un programa que reciba un número e indique si e postivo o negativo\n",
        "n = int(input(\"Ingrese un numero: \"))\n",
        "if n>0:\n",
        "  print(f\"{n} es un número positivo\")\n",
        "else:\n",
        "  print(f\"{n} NO es un número positivo\")[ ]\n",
        "1\n"
      ]
    },
    {
      "cell_type": "markdown",
      "source": [
        "##Selección múltiple if-elif-else\n",
        "\n",
        "\n",
        "```\n",
        "if (condición1):\n",
        "  si se cumple condición 1, entro\n",
        "  aquí\n",
        "elif (condición2):\n",
        "  si no se cumple condición 1,\n",
        "  pero se cumple condición 2,\n",
        "  entro aquí\n",
        "else:\n",
        "  Si no se cumple ninguna de\n",
        "  las anteriores\n",
        "```\n",
        "\n",
        "\n"
      ],
      "metadata": {
        "id": "n7wUgeKxzgGA"
      }
    },
    {
      "cell_type": "code",
      "source": [
        "n = int(input(\"Ingrese un numero: \"))\n",
        "\n",
        "if n>0:print(f\"{n} es número positivo\")\n",
        "elif n<0:print(f\"{n} NO es número positivo\")\n",
        "else: print(f\"{n} es 0\")"
      ],
      "metadata": {
        "colab": {
          "base_uri": "https://localhost:8080/"
        },
        "id": "haamnsDs0Y0g",
        "outputId": "59d0c8b0-2a35-403b-ce7f-59e1add01a0f"
      },
      "execution_count": 8,
      "outputs": [
        {
          "output_type": "stream",
          "name": "stdout",
          "text": [
            "Ingrese un numero: 8\n",
            "8 es número positivo\n"
          ]
        }
      ]
    },
    {
      "cell_type": "markdown",
      "source": [
        "##Operador Terniario\n",
        "Se usa cuando hay una condición a\n",
        "evaluar simple y se desea resolver en una linea de código\n",
        "\n",
        "```\n",
        "(Valor de verdad V) if\n",
        "(Condición) else (valor de verdad F)\n",
        "```\n",
        "\n"
      ],
      "metadata": {
        "id": "q91CRG6i1ng_"
      }
    },
    {
      "cell_type": "code",
      "source": [
        "a=f\"{n} es un número positivo\" if n>=0 else f\"{n} NO es un número positivo\"\n",
        "print(a)"
      ],
      "metadata": {
        "colab": {
          "base_uri": "https://localhost:8080/"
        },
        "id": "_b-aRFd82k-t",
        "outputId": "29e027d5-c48e-45da-a4a8-a3d9e69ddbc4"
      },
      "execution_count": 9,
      "outputs": [
        {
          "output_type": "stream",
          "name": "stdout",
          "text": [
            "8 es un número positivo\n"
          ]
        }
      ]
    },
    {
      "cell_type": "code",
      "source": [
        "#.2\n",
        "n = int(input(\"Esciba su edad: \"))\n",
        "if n > 21:\n",
        "    print(\"Usted es mayor de edad en colombia\")\n",
        "elif n > 18:\n",
        "    print(\"USted es mayor de edad en cualquier parte del mundo\")\n",
        "else:\n",
        "  print(\"Usted no es mayor de edad\")"
      ],
      "metadata": {
        "colab": {
          "base_uri": "https://localhost:8080/"
        },
        "id": "wQGTx1YX7Kyj",
        "outputId": "abafaa93-603a-4985-f248-e0992a9124be"
      },
      "execution_count": 15,
      "outputs": [
        {
          "output_type": "stream",
          "name": "stdout",
          "text": [
            "Esciba su edad: 25\n",
            "Usted es mayor de edad en colombia\n"
          ]
        }
      ]
    },
    {
      "cell_type": "code",
      "source": [
        "#.3\n",
        "n = int(input(\"Escriba el primer numero: \"))\n",
        "m = int(input(\"Escriba el segundo numero: \"))\n",
        "if n > m:\n",
        "  print(n)\n",
        "if m > n:\n",
        "  print(m)"
      ],
      "metadata": {
        "id": "1RNEfssS7moJ"
      },
      "execution_count": null,
      "outputs": []
    },
    {
      "cell_type": "code",
      "source": [
        "#. 4\n",
        "Nota = int(input(\"Indique su nota: \"))\n",
        "if Nota >= 60:\n",
        "    print(\"Aprobado\")\n",
        "else:\n",
        "  print(\"Perdio\")"
      ],
      "metadata": {
        "id": "5laGXmkz7U4F"
      },
      "execution_count": null,
      "outputs": []
    },
    {
      "cell_type": "code",
      "source": [
        "#.5\n",
        "n = int(input(\"Escriba el numero: \"))\n",
        "if n % 2 == 0:\n",
        "  print(\"El numero es par\")\n",
        "else:\n",
        "  print(\"El numero is impar\")"
      ],
      "metadata": {
        "id": "MqaWW4GQ7vWQ"
      },
      "execution_count": null,
      "outputs": []
    },
    {
      "cell_type": "code",
      "source": [
        "#6.\n",
        "n = int(input(\"Escriba el primer numero: \"))\n",
        "m = int(input(\"Escriba el segundo numero: \"))\n",
        "p = int(input(\"Escriba el tercer numero: \"))\n",
        "if n >= m and n >= p:\n",
        "  print(\"El mayor es:\", n)\n",
        "elif m >= n and m >= p:\n",
        "  print(\"El mayor es: \", n)\n",
        "else:\n",
        "  print(\"El mayor es: \", p)\n"
      ],
      "metadata": {
        "colab": {
          "base_uri": "https://localhost:8080/"
        },
        "id": "VwPJuJAH7wBs",
        "outputId": "b8bfd75f-2196-40b2-a178-f3389c49e66f"
      },
      "execution_count": 17,
      "outputs": [
        {
          "output_type": "stream",
          "name": "stdout",
          "text": [
            "Escriba el primer numero: 2\n",
            "Escriba el segundo numero: 1\n",
            "Escriba el tercer numero: 3\n",
            "El mayor es:  3\n"
          ]
        }
      ]
    },
    {
      "cell_type": "code",
      "source": [
        "#7\n",
        "año = int(input(\"Escriba su año: \"))\n",
        "if año\n",
        "% 4 == 0:\n",
        "  print(\"se cumple\")\n",
        "elif año % 400 == 0:\n",
        "  print(\"es bisiesto\")\n",
        "else:\n",
        "  print(\"no es bisiesto\")"
      ],
      "metadata": {
        "colab": {
          "base_uri": "https://localhost:8080/"
        },
        "id": "ZhND8kdeAhx9",
        "outputId": "31cd5628-f7ea-4da4-d375-a93cee7958ad"
      },
      "execution_count": 25,
      "outputs": [
        {
          "output_type": "stream",
          "name": "stdout",
          "text": [
            "Escriba su año: 2024\n",
            "se cumple\n"
          ]
        }
      ]
    },
    {
      "cell_type": "code",
      "source": [
        "#8\n",
        "contraseña = input(\"Ingrese una contraseña: \")\n",
        "tiene_numero = False\n",
        "tiene_mayuscula = False\n"
      ],
      "metadata": {
        "id": "mKzWGcQoCmE2"
      },
      "execution_count": null,
      "outputs": []
    }
  ]
}