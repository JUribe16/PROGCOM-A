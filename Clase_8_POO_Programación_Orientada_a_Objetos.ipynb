{
  "nbformat": 4,
  "nbformat_minor": 0,
  "metadata": {
    "colab": {
      "provenance": [],
      "authorship_tag": "ABX9TyNtOu2/lQu2sm5lO4qefH5m",
      "include_colab_link": true
    },
    "kernelspec": {
      "name": "python3",
      "display_name": "Python 3"
    },
    "language_info": {
      "name": "python"
    }
  },
  "cells": [
    {
      "cell_type": "markdown",
      "metadata": {
        "id": "view-in-github",
        "colab_type": "text"
      },
      "source": [
        "<a href=\"https://colab.research.google.com/github/JUribe16/PROGCOM-A/blob/main/Clase_8_POO_Programaci%C3%B3n_Orientada_a_Objetos.ipynb\" target=\"_parent\"><img src=\"https://colab.research.google.com/assets/colab-badge.svg\" alt=\"Open In Colab\"/></a>"
      ]
    },
    {
      "cell_type": "code",
      "execution_count": 52,
      "metadata": {
        "colab": {
          "base_uri": "https://localhost:8080/"
        },
        "id": "qM7C--8-OjUI",
        "outputId": "bbcd2fb2-c551-4516-eec1-c046e1c83d30"
      },
      "outputs": [
        {
          "output_type": "execute_result",
          "data": {
            "text/plain": [
              "['dahlia', 'geranio', 'rosa']"
            ]
          },
          "metadata": {},
          "execution_count": 52
        }
      ],
      "source": [
        "#Floristeria\n",
        "# 1. Conjunto de flroes, se leige aleatoriamente una cantidad\n",
        "import random\n",
        "\n",
        "flores=[\"tulipanes\", \"lirio\", \"rosa\", \"dahlia\", \"margarita\", \"girasol\", \"clavel\", \"geranio\"]\n",
        "seleccion=random.sample(flores,3)\n",
        "seleccion"
      ]
    },
    {
      "cell_type": "code",
      "source": [
        "def inventario():\n",
        "  flores=[\"tulipanes\", \"lirio\", \"rosa\", \"dahlia\", \"margarita\", \"girasol\", \"clavel\", \"geranio\"]\n",
        "  seleccion=random.sample(flores,3)\n",
        "\n",
        "  inventario={\n",
        "      flor:{\n",
        "          \"precio\":random.randint(2000,6000),\n",
        "          \"cantidad\":random.randint(10,50),\n",
        "          \"vendidas\": 0\n",
        "      } for flor in seleccion\n",
        "  }\n",
        "  return inventario"
      ],
      "metadata": {
        "id": "OMQZxd4WPd3b"
      },
      "execution_count": 53,
      "outputs": []
    },
    {
      "cell_type": "code",
      "source": [
        "inventario()"
      ],
      "metadata": {
        "colab": {
          "base_uri": "https://localhost:8080/"
        },
        "id": "h6E5beTQPhN0",
        "outputId": "71c4e758-8703-462f-a82b-c42399d83c29"
      },
      "execution_count": 54,
      "outputs": [
        {
          "output_type": "execute_result",
          "data": {
            "text/plain": [
              "{'dahlia': {'precio': 3993, 'cantidad': 28, 'vendidas': 0},\n",
              " 'lirio': {'precio': 5505, 'cantidad': 32, 'vendidas': 0},\n",
              " 'rosa': {'precio': 3450, 'cantidad': 44, 'vendidas': 0}}"
            ]
          },
          "metadata": {},
          "execution_count": 54
        }
      ]
    },
    {
      "cell_type": "code",
      "source": [
        "def menu(inventario):\n",
        "  print(\"------------Menú de flores disponibes Floristeria Carlitos---------\")\n",
        "  for flor, datos in inventario.items():\n",
        "    print(f\"{flor}:${datos['precio']} cant :{datos['cantidad']} disponible\")\n",
        "    print(\"--------------------------------------------------------------------\")\n"
      ],
      "metadata": {
        "id": "bpvTpHMER65J"
      },
      "execution_count": 55,
      "outputs": []
    },
    {
      "cell_type": "code",
      "source": [
        "menu(inventario())"
      ],
      "metadata": {
        "colab": {
          "base_uri": "https://localhost:8080/"
        },
        "id": "lB_wu3mFUKXB",
        "outputId": "6cd7ad17-f666-4e83-a048-eeb7d04d695d"
      },
      "execution_count": 56,
      "outputs": [
        {
          "output_type": "stream",
          "name": "stdout",
          "text": [
            "------------Menú de flores disponibes Floristeria Carlitos---------\n",
            "clavel:$4084 cant :38 disponible\n",
            "--------------------------------------------------------------------\n",
            "lirio:$5533 cant :34 disponible\n",
            "--------------------------------------------------------------------\n",
            "girasol:$5594 cant :17 disponible\n",
            "--------------------------------------------------------------------\n"
          ]
        }
      ]
    },
    {
      "cell_type": "code",
      "source": [
        "from functools import total_ordering\n",
        "def ventas(inventario,flor,cantidad,total_gando):\n",
        "  if flor not in inventario:\n",
        "    print(f\"{flor} No se encuentra a la venta 🤣\")\n",
        "    return total_gando\n",
        "  datos=inventario[flor]\n",
        "if cantidad>datos[\"cantidad\"]:\n",
        "   print(f\"Lo siento. No tenemos la cantidad requerida\")\n",
        "   return total_ganado\n",
        "#Realizando la venta\n",
        "datos[\"camtidad\"]-=cantidad\n",
        "datos[\"cantidad\"]+=cantidad\n",
        "total_ganado+=ventas\n",
        "print(f\"Vendidas: {cantidad} de {flor} para un total de ${venta}\")\n",
        "\n",
        "#Si se acaba, eliminamos la flor\n",
        "if datos[\"cantidad\"] ==0\n",
        "  print(f\"{flor} ha sido eliminado del inventario\")\n",
        "  del inventario[flor]\n",
        "return total_ganados"
      ],
      "metadata": {
        "colab": {
          "base_uri": "https://localhost:8080/",
          "height": 106
        },
        "id": "M3wJXga4Vqae",
        "outputId": "576f3381-9933-4b09-c38a-dd8e568d3915"
      },
      "execution_count": 57,
      "outputs": [
        {
          "output_type": "error",
          "ename": "SyntaxError",
          "evalue": "expected ':' (ipython-input-430408283.py, line 17)",
          "traceback": [
            "\u001b[0;36m  File \u001b[0;32m\"/tmp/ipython-input-430408283.py\"\u001b[0;36m, line \u001b[0;32m17\u001b[0m\n\u001b[0;31m    if datos[\"cantidad\"] ==0\u001b[0m\n\u001b[0m                            ^\u001b[0m\n\u001b[0;31mSyntaxError\u001b[0m\u001b[0;31m:\u001b[0m expected ':'\n"
          ]
        }
      ]
    },
    {
      "cell_type": "code",
      "source": [
        "def cerrar_tienda(inventario_inicial, total_ganado, inventario_final):\n",
        "  print(\"\\n-----Tienda Cerrada-----\")\n",
        "  #Combinar el inventario inicial con el final para saber cuales se vendieron\n",
        "  flores_vendidas={}\n",
        "  for flor, datos in inventario_inicial.items():\n",
        "      cantidad_final=inventario_final.get(flor, \"cantidad\": 0)[\"cantidad\"]\n",
        "      vendidad=datos[\"cantidad\"]-cantidad_final\n",
        "      flores_vendidas[flor]=vendidas\n",
        "\n",
        "      #Determinar cuales fueron las mas vendidas\n",
        "      mas_vendidas=max(flores_vendidas,key=flores_vendidas.get)\n",
        "      menos_vendidas=max(flores_vendidas,key=flores_vendidas.get)\n",
        "\n",
        "      print(f\"la flor mas vendida es {mas_vendidas}:{flores_vendidas[mas_vendidas]} unidades\")\n",
        "      print(f\"la menos vendida fue {menos_vendidas} :{flores_vendidas[menos_vendidas]}\")"
      ],
      "metadata": {
        "id": "_13a-aoQadwC"
      },
      "execution_count": null,
      "outputs": []
    },
    {
      "cell_type": "code",
      "source": [
        "total_gando=0\n",
        "total_ganado=ventas(flor, \"rosa\", 10 total_ganado)\n",
        "total_ganado=ventas(flor, \"clavel\", 18 total_ganado)\n",
        "total_ganado=ventas(flor, \"margarita\", 80 total_ganado)"
      ],
      "metadata": {
        "id": "4o-exQsVeR-I"
      },
      "execution_count": null,
      "outputs": []
    }
  ]
}