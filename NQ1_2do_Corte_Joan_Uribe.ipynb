{
  "nbformat": 4,
  "nbformat_minor": 0,
  "metadata": {
    "colab": {
      "provenance": [],
      "authorship_tag": "ABX9TyPMoAJppyz5lMOIO87cGpgh",
      "include_colab_link": true
    },
    "kernelspec": {
      "name": "python3",
      "display_name": "Python 3"
    },
    "language_info": {
      "name": "python"
    }
  },
  "cells": [
    {
      "cell_type": "markdown",
      "metadata": {
        "id": "view-in-github",
        "colab_type": "text"
      },
      "source": [
        "<a href=\"https://colab.research.google.com/github/JUribe16/PROGCOM-A/blob/main/NQ1_2do_Corte_Joan_Uribe.ipynb\" target=\"_parent\"><img src=\"https://colab.research.google.com/assets/colab-badge.svg\" alt=\"Open In Colab\"/></a>"
      ]
    },
    {
      "cell_type": "markdown",
      "source": [
        "#**Informe de Álgebra Lineal – Clase Practicada**\n",
        "\n",
        "En este informe se realiza un análisis de Álgebra Lineal basado en la clase que vimos anteriormente. Se utilizan las librerías NumPy y Matplotlib para resolver y visualizar propiedades de una matriz.\n",
        "\n",
        "Contenido del informe:\n",
        "\n",
        "Definición de matriz y vector: Se define una matriz\n",
        "𝐴\n",
        "A y un vector\n",
        "𝑏\n",
        "b que representan un sistema de ecuaciones\n",
        "𝐴\n",
        "𝑥\n",
        "=\n",
        "𝑏\n",
        "Ax=b.\n",
        "\n",
        "Resolución del sistema: Se calcula el vector\n",
        "𝑥\n",
        "x que satisface la ecuación, obteniendo los valores de las incógnitas.\n",
        "\n",
        "Determinante y rango: Se determina si la matriz es invertible y se analiza su rango para conocer la independencia lineal de sus filas.\n",
        "\n",
        "Autovalores y autovectores: Se calculan los autovalores y autovectores para entender la acción de la matriz como transformación lineal.\n",
        "\n",
        "Visualización gráfica: Se grafican los autovectores en el plano para observar sus direcciones y magnitudes, reforzando el aprendizaje de la clase de manera visual.\n",
        "\n",
        "Este informe combina cálculos algebraicos y gráficos para reforzar los conceptos vistos en clase y comprender mejor el comportamiento de las matrices en Álgebra Lineal."
      ],
      "metadata": {
        "id": "9lwcOIiONhGo"
      }
    },
    {
      "cell_type": "code",
      "execution_count": null,
      "metadata": {
        "colab": {
          "base_uri": "https://localhost:8080/",
          "height": 894
        },
        "id": "TBfb3abTNe4K",
        "outputId": "0717eac6-4206-4525-a3d0-e06e43891bca"
      },
      "outputs": [
        {
          "output_type": "stream",
          "name": "stdout",
          "text": [
            "=== Informe de Álgebra Lineal ===\n",
            "\n",
            "Matriz A:\n",
            "[[2 1]\n",
            " [1 3]]\n",
            "\n",
            "Vector b:\n",
            "[ 5 10]\n",
            "\n",
            "Solución del sistema Ax = b:\n",
            "[1. 3.]\n",
            "\n",
            "Determinante de A: 5.000000000000001\n",
            "Rango de A: 2\n",
            "\n",
            "Autovalores de A: [1.38196601 3.61803399]\n",
            "Autovectores de A:\n",
            " [[-0.85065081 -0.52573111]\n",
            " [ 0.52573111 -0.85065081]]\n"
          ]
        },
        {
          "output_type": "display_data",
          "data": {
            "text/plain": [
              "<Figure size 600x600 with 1 Axes>"
            ],
            "image/png": "[encoded data removed]"
          },
          "metadata": {}
        }
      ],
      "source": [
        "import numpy as np\n",
        "import matplotlib.pyplot as plt\n",
        "\n",
        "\n",
        "print(\"=== Informe de Álgebra Lineal ===\\n\")\n",
        "\n",
        "\n",
        "A = np.array([[2, 1], [1, 3]])\n",
        "b = np.array([5, 10])\n",
        "\n",
        "print(\"Matriz A:\")\n",
        "print(A)\n",
        "print(\"\\nVector b:\")\n",
        "print(b)\n",
        "\n",
        "\n",
        "x = np.linalg.solve(A, b)\n",
        "print(\"\\nSolución del sistema Ax = b:\")\n",
        "print(x)\n",
        "\n",
        "\n",
        "det_A = np.linalg.det(A)\n",
        "rank_A = np.linalg.matrix_rank(A)\n",
        "\n",
        "print(\"\\nDeterminante de A:\", det_A)\n",
        "print(\"Rango de A:\", rank_A)\n",
        "\n",
        "\n",
        "eigvals, eigvecs = np.linalg.eig(A)\n",
        "print(\"\\nAutovalores de A:\", eigvals)\n",
        "print(\"Autovectores de A:\\n\", eigvecs)\n",
        "\n",
        "plt.figure(figsize=(6,6))\n",
        "origin = [0], [0]\n",
        "for i in range(len(eigvecs)):\n",
        "    plt.quiver(*origin, eigvecs[0,i], eigvecs[1,i], angles='xy', scale_units='xy', scale=1, color=['r','b'][i])\n",
        "plt.xlim(-2,2)\n",
        "plt.ylim(-2,2)\n",
        "plt.grid()\n",
        "plt.title(\"Autovectores de la matriz A\")\n",
        "plt.xlabel(\"X\")\n",
        "plt.ylabel(\"Y\")\n",
        "plt.show()"
      ]
    }
  ]
}