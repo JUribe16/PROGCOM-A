{
  "nbformat": 4,
  "nbformat_minor": 0,
  "metadata": {
    "colab": {
      "provenance": []
    },
    "kernelspec": {
      "name": "python3",
      "display_name": "Python 3"
    },
    "language_info": {
      "name": "python"
    }
  },
  "cells": [
    {
      "cell_type": "markdown",
      "source": [
        "#Prueba Diagnóstica\n"
      ],
      "metadata": {
        "id": "xeBuE_2ELHOO"
      }
    },
    {
      "cell_type": "markdown",
      "source": [
        "##Estructuras de selección\n",
        "\n",
        "Aquí se desarrollaran ejercicios sobre estructuras de selección"
      ],
      "metadata": {
        "id": "w8uiTZpIL2kF"
      }
    },
    {
      "cell_type": "markdown",
      "source": [
        "si (condición) entonces:\n",
        "  pasan cosas divertidas ⏰\n",
        "sino:\n",
        "  llorelo 😞"
      ],
      "metadata": {
        "id": "fpAWRHGJM1iU"
      }
    },
    {
      "cell_type": "code",
      "execution_count": null,
      "metadata": {
        "id": "96ErmyVZJfF2"
      },
      "outputs": [],
      "source": []
    }
  ]
}