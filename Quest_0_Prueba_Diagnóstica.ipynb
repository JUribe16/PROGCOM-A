{
  "nbformat": 4,
  "nbformat_minor": 0,
  "metadata": {
    "colab": {
      "provenance": [],
      "authorship_tag": "ABX9TyPC7W8G19WCqfw3jJLi6Gx0",
      "include_colab_link": true
    },
    "kernelspec": {
      "name": "python3",
      "display_name": "Python 3"
    },
    "language_info": {
      "name": "python"
    }
  },
  "cells": [
    {
      "cell_type": "markdown",
      "metadata": {
        "id": "view-in-github",
        "colab_type": "text"
      },
      "source": [
        "<a href=\"https://colab.research.google.com/github/JUribe16/PROGCOM-A/blob/main/Quest_0_Prueba_Diagn%C3%B3stica.ipynb\" target=\"_parent\"><img src=\"https://colab.research.google.com/assets/colab-badge.svg\" alt=\"Open In Colab\"/></a>"
      ]
    },
    {
      "cell_type": "markdown",
      "source": [
        "#Prueba Diagnóstica\n"
      ],
      "metadata": {
        "id": "xeBuE_2ELHOO"
      }
    },
    {
      "cell_type": "markdown",
      "source": [
        "##Estructuras de selección\n",
        "\n",
        "Aquí se desarrollaran ejercicios sobre estructuras de selección"
      ],
      "metadata": {
        "id": "w8uiTZpIL2kF"
      }
    },
    {
      "cell_type": "markdown",
      "source": [
        "si (condición) entonces:\n",
        "  pasan cosas divertidas ⏰\n",
        "sino:\n",
        "  llorelo 😞"
      ],
      "metadata": {
        "id": "fpAWRHGJM1iU"
      }
    },
    {
      "cell_type": "code",
      "execution_count": 6,
      "metadata": {
        "colab": {
          "base_uri": "https://localhost:8080/"
        },
        "id": "96ErmyVZJfF2",
        "outputId": "012fb212-02f1-4c96-8153-ef02031d1c0d"
      },
      "outputs": [
        {
          "output_type": "stream",
          "name": "stdout",
          "text": [
            "Escirba un numero positivo: -2\n",
            "El numero es negativo\n"
          ]
        }
      ],
      "source": [
        "#.1\n",
        "n = int(input(\"Escirba un numero positivo: \"))\n",
        "if n > 0:\n",
        "  print(\"El numero es positivo\")\n",
        "else:\n",
        "  print(\"El numero es negativo\")"
      ]
    },
    {
      "cell_type": "code",
      "source": [
        "#.2\n",
        "n = int(input(\"Esciba su edad: \"))\n",
        "if n > 18:\n",
        "    print(\"Usted es mayor de edad\")\n",
        "else:\n",
        "  print(\"Usted no es mayor de edad\")"
      ],
      "metadata": {
        "colab": {
          "base_uri": "https://localhost:8080/"
        },
        "id": "zUgBlD9HWQHW",
        "outputId": "80e46e11-a436-476a-fc69-7bca584ab43c"
      },
      "execution_count": 8,
      "outputs": [
        {
          "output_type": "stream",
          "name": "stdout",
          "text": [
            "Esciba su edad: 19\n",
            "Usted es mayor de edad\n"
          ]
        }
      ]
    },
    {
      "cell_type": "code",
      "source": [
        "#.3\n",
        "n = int(input(\"Escriba el primer numero: \"))\n",
        "m = int(input(\"Escriba el segundo numero: \"))\n",
        "if n > m:\n",
        "  print(n)\n",
        "if m > n:\n",
        "  print(m)"
      ],
      "metadata": {
        "colab": {
          "base_uri": "https://localhost:8080/"
        },
        "id": "BnffSAmtZL27",
        "outputId": "ebedecad-7c41-41e2-dd8c-28f44034498b"
      },
      "execution_count": 11,
      "outputs": [
        {
          "output_type": "stream",
          "name": "stdout",
          "text": [
            "Escriba el primer numero: 5\n",
            "Escriba el segundo numero: 8\n",
            "8\n"
          ]
        }
      ]
    },
    {
      "cell_type": "code",
      "source": [
        "#. 4\n",
        "Nota = int(input(\"Indique su nota: \"))\n",
        "if Nota >= 60:\n",
        "    print(\"Aprobado\")\n",
        "else:\n",
        "  print(\"Perdio\")"
      ],
      "metadata": {
        "colab": {
          "base_uri": "https://localhost:8080/"
        },
        "id": "bAOXMbjEaaQS",
        "outputId": "eb71dcf4-bfc9-4b53-f5cb-7f74a32f141e"
      },
      "execution_count": 13,
      "outputs": [
        {
          "output_type": "stream",
          "name": "stdout",
          "text": [
            "Indique su nota: 20\n",
            "Perdio\n"
          ]
        }
      ]
    },
    {
      "cell_type": "code",
      "source": [
        "#.5\n",
        "n = int(input(\"Escriba el numero: \"))\n",
        "if n % 2 == 0:\n",
        "  print(\"El numero es par\")\n",
        "else:\n",
        "  print(\"El numero is impar}\")"
      ],
      "metadata": {
        "colab": {
          "base_uri": "https://localhost:8080/"
        },
        "id": "rJy_AbBkbAjZ",
        "outputId": "0cafe897-716e-44c5-af75-f86c6185348c"
      },
      "execution_count": 17,
      "outputs": [
        {
          "output_type": "stream",
          "name": "stdout",
          "text": [
            "Escriba el numero: 3\n",
            "El numero is impar\n"
          ]
        }
      ]
    },
    {
      "cell_type": "code",
      "source": [
        "#6.\n",
        "n = int(input(\"Escriba el primer numero: \"))\n",
        "m = int(input(\"Escriba el segundo numero: \"))\n",
        "p = int(input(\"Escriba el tercer numero: \"))\n",
        "if n > m > p:\n",
        "  print(n)\n",
        "if m > n > p:\n",
        "  print(m)\n",
        "if p > m > n:\n",
        "  print(p)"
      ],
      "metadata": {
        "colab": {
          "base_uri": "https://localhost:8080/"
        },
        "id": "W-ECgl4Db9Xx",
        "outputId": "bc4f2bc5-eec1-4eb7-efff-c9bfd3d9acb8"
      },
      "execution_count": 21,
      "outputs": [
        {
          "name": "stdout",
          "output_type": "stream",
          "text": [
            "Escriba el primer numero: 5\n",
            "Escriba el segundo numero: 1\n",
            "Escriba el tercer numero: 7\n"
          ]
        }
      ]
    }
  ]
}