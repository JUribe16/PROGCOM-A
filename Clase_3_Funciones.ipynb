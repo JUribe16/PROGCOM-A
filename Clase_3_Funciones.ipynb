{
  "nbformat": 4,
  "nbformat_minor": 0,
  "metadata": {
    "colab": {
      "provenance": [],
      "authorship_tag": "ABX9TyM0M+xSYWq6twa+FQz1G6p0",
      "include_colab_link": true
    },
    "kernelspec": {
      "name": "python3",
      "display_name": "Python 3"
    },
    "language_info": {
      "name": "python"
    }
  },
  "cells": [
    {
      "cell_type": "markdown",
      "metadata": {
        "id": "view-in-github",
        "colab_type": "text"
      },
      "source": [
        "<a href=\"https://colab.research.google.com/github/JUribe16/PROGCOM-A/blob/main/Clase_3_Funciones.ipynb\" target=\"_parent\"><img src=\"https://colab.research.google.com/assets/colab-badge.svg\" alt=\"Open In Colab\"/></a>"
      ]
    },
    {
      "cell_type": "markdown",
      "source": [
        "#FUNCIONES\n",
        "Copiado dinámico\n",
        "\n",
        "Dió nacimiento a un nuevo paradigma de programación llamado progrmación modular.\n",
        "\n",
        "Forma general de programar funciones.\n",
        "\n",
        "\n",
        "\n",
        "```\n",
        "def (nombre_de_funcion)(p,p2,p3...pn):\n",
        "  donde p, p2, p3...pn: son parámetros\n",
        "```\n",
        "\n"
      ],
      "metadata": {
        "id": "BbsncKEf25ap"
      }
    },
    {
      "cell_type": "markdown",
      "source": [
        "\n",
        "\n",
        "1. list()\n",
        "2. len()\n",
        "3. print()\n",
        "4. append()# POO Método\n",
        "5. int()\n",
        "6. input()\n",
        "\n",
        "\n",
        "\n",
        "\n"
      ],
      "metadata": {
        "id": "jFYO1OID4j7x"
      }
    },
    {
      "cell_type": "markdown",
      "source": [
        "##Tipos de Funciones\n",
        "1. Sin parámetros, sin retorno\n",
        "2. Sin parámetros, con retorno\n",
        "3. Con parámetros, sin\n",
        "4. Con parámetros, Con retorno"
      ],
      "metadata": {
        "id": "BLUIzgtR5Ej0"
      }
    },
    {
      "cell_type": "markdown",
      "source": [
        "### 1. Sin parámetros, sin retorno\n",
        "Se emplea como copiado dinámico"
      ],
      "metadata": {
        "id": "EflC6FWo5qMW"
      }
    },
    {
      "cell_type": "code",
      "source": [
        "#Ejemplo: Entrada de cajero electrónico\n",
        "def cajero(): #Esto significa que es sin parámetros\n",
        "  print(\"Bienvenido a DaviUNAB\")\n",
        "  print(\"Estas son las operaciones que puede realizar\")\n",
        "  print(\"1. Retirar\\n2. Transferencia\\n3. Denunciar\\n4. Operaciones sin tarjeta\")"
      ],
      "metadata": {
        "id": "siJ_Djhf25GW"
      },
      "execution_count": null,
      "outputs": []
    },
    {
      "cell_type": "code",
      "source": [
        "cajero()"
      ],
      "metadata": {
        "colab": {
          "base_uri": "https://localhost:8080/"
        },
        "id": "oDmRP5vf64WI",
        "outputId": "f2f2446d-b32b-4c6c-e8a0-53f964a6cc7b"
      },
      "execution_count": null,
      "outputs": [
        {
          "output_type": "stream",
          "name": "stdout",
          "text": [
            "Bienvenido a DaviUNAB\n",
            "Estas son las operaciones que puede realizar\n",
            "1. Retirar\n",
            "2. Transferencia\n",
            "3. Denunciar\n",
            "4. Operaciones sin tarjeta\n"
          ]
        }
      ]
    },
    {
      "cell_type": "markdown",
      "source": [
        "###2. Sin parámetros, con retorno"
      ],
      "metadata": {
        "id": "5PWBaq4i8ca-"
      }
    },
    {
      "cell_type": "code",
      "source": [
        "def cajero2(): #Esto significa que es sin parámetros\n",
        "  print(\"Bienvenido a DaviUNAB\")\n",
        "  print(\"Estas son las operaciones que puede realizar\")\n",
        "  print(\"1. Retirar\\n2. Transferencia\\n3. Denunciar\\n4. Operaciones sin tarjeta\")\n",
        "  rta=input(\"Ingrese una opción \") #Variable local\n",
        "  return rta"
      ],
      "metadata": {
        "id": "9aBIyTwz8pAv"
      },
      "execution_count": null,
      "outputs": []
    },
    {
      "cell_type": "code",
      "source": [
        "cajero2()"
      ],
      "metadata": {
        "colab": {
          "base_uri": "https://localhost:8080/"
        },
        "id": "UjcXPFAA9AHG",
        "outputId": "0ce25af4-22b5-4f6b-bcb7-6f016231ed44"
      },
      "execution_count": null,
      "outputs": [
        {
          "name": "stdout",
          "output_type": "stream",
          "text": [
            "Bienvenido a DaviUNAB\n",
            "Estas son las operaciones que puede realizar\n",
            "1. Retirar\n",
            "2. Transferencia\n",
            "3. Denunciar\n",
            "4. Operaciones sin tarjeta\n",
            "Ingrese una opción 2\n"
          ]
        }
      ]
    },
    {
      "cell_type": "code",
      "source": [
        "rta=cajero2()"
      ],
      "metadata": {
        "colab": {
          "base_uri": "https://localhost:8080/"
        },
        "id": "b9CcI30_-bGR",
        "outputId": "b49a09ad-4d2c-488c-fa90-96994963ca73"
      },
      "execution_count": null,
      "outputs": [
        {
          "name": "stdout",
          "output_type": "stream",
          "text": [
            "Bienvenido a DaviUNAB\n",
            "Estas son las operaciones que puede realizar\n",
            "1. Retirar\n",
            "2. Transferencia\n",
            "3. Denunciar\n",
            "4. Operaciones sin tarjeta\n",
            "Ingrese una opción 1\n"
          ]
        }
      ]
    },
    {
      "cell_type": "code",
      "source": [
        "type(rta)"
      ],
      "metadata": {
        "colab": {
          "base_uri": "https://localhost:8080/"
        },
        "id": "U7Q62t-T-nL6",
        "outputId": "730c1dbe-64dc-43e1-b575-c13d9c555cbc"
      },
      "execution_count": null,
      "outputs": [
        {
          "output_type": "execute_result",
          "data": {
            "text/plain": [
              "str"
            ]
          },
          "metadata": {},
          "execution_count": 15
        }
      ]
    },
    {
      "cell_type": "markdown",
      "source": [
        "### 3. Con parámetros, sin retorno"
      ],
      "metadata": {
        "id": "DMoILcZC_D3v"
      }
    },
    {
      "cell_type": "code",
      "source": [
        "#ejemplo: el área de un rectangulo\n",
        "def ab(u,du):\n",
        "  print(f\" el área de un rectángulo de base {u} y altura {du} es {u*du}\")"
      ],
      "metadata": {
        "id": "wvR7Fr9t_Yp0"
      },
      "execution_count": 2,
      "outputs": []
    },
    {
      "cell_type": "code",
      "source": [
        "a=ab(2,3)"
      ],
      "metadata": {
        "colab": {
          "base_uri": "https://localhost:8080/"
        },
        "id": "Cpb7pLldLjWF",
        "outputId": "89d74567-18dd-4a6c-dddc-eeb438ffc8a8"
      },
      "execution_count": 3,
      "outputs": [
        {
          "output_type": "stream",
          "name": "stdout",
          "text": [
            " el área de un rectángulo de base 2 y altura 3 es 6\n"
          ]
        }
      ]
    },
    {
      "cell_type": "code",
      "source": [
        "print(a)"
      ],
      "metadata": {
        "colab": {
          "base_uri": "https://localhost:8080/"
        },
        "id": "K18RPX1LLweq",
        "outputId": "90f11e72-8de3-4901-eb90-8996bd1f7b97"
      },
      "execution_count": 4,
      "outputs": [
        {
          "output_type": "stream",
          "name": "stdout",
          "text": [
            "None\n"
          ]
        }
      ]
    },
    {
      "cell_type": "markdown",
      "source": [
        "###4. Con parametros y con retorno"
      ],
      "metadata": {
        "id": "c2VjA4MnMDtd"
      }
    },
    {
      "cell_type": "code",
      "source": [
        "#ejemplo: el área de un rectangulo\n",
        "def area_rectangulo(u,du):\n",
        "  return(f\" el área de un rectángulo de base {u} y altura {du} es {u*du}\")\n",
        ""
      ],
      "metadata": {
        "id": "IyrEElOIM0dA"
      },
      "execution_count": 12,
      "outputs": []
    },
    {
      "cell_type": "code",
      "source": [
        "a=area_rectangulo(10,15)"
      ],
      "metadata": {
        "id": "c0UKxMHdNPSJ"
      },
      "execution_count": 13,
      "outputs": []
    },
    {
      "cell_type": "code",
      "source": [
        "print(a)"
      ],
      "metadata": {
        "colab": {
          "base_uri": "https://localhost:8080/"
        },
        "id": "9FWmMlvIM9i5",
        "outputId": "2dfe800d-acea-4236-eab7-bbd918d7224f"
      },
      "execution_count": 14,
      "outputs": [
        {
          "output_type": "stream",
          "name": "stdout",
          "text": [
            " el área de un rectángulo de base 10 y altura 15 es 150\n"
          ]
        }
      ]
    },
    {
      "cell_type": "markdown",
      "source": [
        "#FUNCIONES ANÓNIMAS O LAMBDA\n",
        "\n",
        "\n",
        "1.   Siempre usan parametros\n",
        "\n",
        "1.   Siempre genera retorno\n",
        "2.   No tienen nombre-->anónimas\n",
        "\n",
        "\n",
        "2. ** se puede emplear n parametros, pero sólo ejecuta una linea de código**\n",
        "\n",
        "Variable=lambda (p,p1,p2,...pn): operación\n",
        "\n"
      ],
      "metadata": {
        "id": "Tv0FkjDhNVwN"
      }
    },
    {
      "cell_type": "code",
      "source": [
        "#ejemplo: el área de un triangulo\n",
        "area_triangulo=lambda a,b:a*b/2"
      ],
      "metadata": {
        "id": "H_hvPfeaOD0O"
      },
      "execution_count": null,
      "outputs": []
    },
    {
      "cell_type": "code",
      "source": [
        "area_triangulo(3,8)"
      ],
      "metadata": {
        "id": "UFlRbcqmOH8O"
      },
      "execution_count": null,
      "outputs": []
    },
    {
      "cell_type": "code",
      "source": [
        "x=int(input(\"ingrese la altura de un triangulo\"))\n",
        "y=int(input(\"ingrese la base de un triangulo\"))\n",
        "area_triangulo(x,y)"
      ],
      "metadata": {
        "id": "JSOJO4qmOPbK"
      },
      "execution_count": null,
      "outputs": []
    },
    {
      "cell_type": "code",
      "source": [
        "#ejemplo: el área de un circulo\n",
        "area_circulo=lambda r:(3.14)*r**2"
      ],
      "metadata": {
        "id": "LtOtPeq4O_F0"
      },
      "execution_count": 17,
      "outputs": []
    },
    {
      "cell_type": "code",
      "source": [
        "area_circulo(2)"
      ],
      "metadata": {
        "colab": {
          "base_uri": "https://localhost:8080/"
        },
        "id": "Kj6MkO_fOm-s",
        "outputId": "ca78e4b7-4dcc-42f1-a2a5-afda28009346"
      },
      "execution_count": 18,
      "outputs": [
        {
          "output_type": "execute_result",
          "data": {
            "text/plain": [
              "12.56"
            ]
          },
          "metadata": {},
          "execution_count": 18
        }
      ]
    }
  ]
}