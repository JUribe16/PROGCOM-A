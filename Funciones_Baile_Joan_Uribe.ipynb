{
  "nbformat": 4,
  "nbformat_minor": 0,
  "metadata": {
    "colab": {
      "provenance": [],
      "authorship_tag": "ABX9TyPZhj5yw9QAOC5MUlCLehH3",
      "include_colab_link": true
    },
    "kernelspec": {
      "name": "python3",
      "display_name": "Python 3"
    },
    "language_info": {
      "name": "python"
    }
  },
  "cells": [
    {
      "cell_type": "markdown",
      "metadata": {
        "id": "view-in-github",
        "colab_type": "text"
      },
      "source": [
        "<a href=\"https://colab.research.google.com/github/JUribe16/PROGCOM-A/blob/main/Funciones_Baile_Joan_Uribe.ipynb\" target=\"_parent\"><img src=\"https://colab.research.google.com/assets/colab-badge.svg\" alt=\"Open In Colab\"/></a>"
      ]
    },
    {
      "cell_type": "code",
      "execution_count": 1,
      "metadata": {
        "colab": {
          "base_uri": "https://localhost:8080/"
        },
        "id": "wh1ufMNVt_Vp",
        "outputId": "77f59e0f-89d1-4d69-94e1-93b798452d2f"
      },
      "outputs": [
        {
          "output_type": "stream",
          "name": "stdout",
          "text": [
            "Inicia el baile de Golden\n",
            "\n",
            "Movimiento de manos\n",
            "Movimiento de manos\n",
            "Subir brazos\n",
            "Bajar brazos\n",
            "Subir brazos\n",
            "Bajar brazos\n",
            "Los participantes se separan\n",
            "Los bailarines forman filas\n",
            "Coordinación grupal\n",
            "Movimiento de manos\n",
            "Movimiento de manos\n",
            "Subir brazos\n",
            "Bajar brazos\n",
            "Subir brazos\n",
            "Bajar brazos\n",
            "Los participantes se separan\n",
            "Los bailarines forman filas\n",
            "Coordinación grupal\n",
            "\n",
            "Puente con énfasis en brazos\n",
            "Subir brazos\n",
            "Bajar brazos\n",
            "Subir brazos\n",
            "Bajar brazos\n",
            "Coordinación grupal\n",
            "Pose final de la coreografía\n",
            "\n",
            "Fin de la coreografía\n"
          ]
        }
      ],
      "source": [
        "# Coreografía del baile de Golden\n",
        "# Autor: Joan Sebastian Uribe González\n",
        "# Este programa organiza los pasos del baile usando funciones en Python\n",
        "\n",
        "import time\n",
        "\n",
        "# Tiempo de espera entre pasos (para simular ritmo)\n",
        "beat = 0.5\n",
        "\n",
        "def movimiento_manos():\n",
        "    print(\"Movimiento de manos\")\n",
        "    time.sleep(beat)\n",
        "\n",
        "def subir_bajar_brazos():\n",
        "    print(\"Subir brazos\")\n",
        "    time.sleep(beat)\n",
        "    print(\"Bajar brazos\")\n",
        "    time.sleep(beat)\n",
        "\n",
        "def separacion():\n",
        "    print(\"Los participantes se separan\")\n",
        "    time.sleep(beat)\n",
        "\n",
        "def formacion_filas():\n",
        "    print(\"Los bailarines forman filas\")\n",
        "    time.sleep(beat)\n",
        "\n",
        "def coordinacion():\n",
        "    print(\"Coordinación grupal\")\n",
        "    time.sleep(beat)\n",
        "\n",
        "def cierre():\n",
        "    print(\"Pose final de la coreografía\")\n",
        "    time.sleep(beat)\n",
        "\n",
        "# Un bloque de pasos que se repite\n",
        "def combo():\n",
        "    movimiento_manos()\n",
        "    movimiento_manos()\n",
        "    subir_bajar_brazos()\n",
        "    subir_bajar_brazos()\n",
        "    separacion()\n",
        "    formacion_filas()\n",
        "    coordinacion()\n",
        "\n",
        "# Coreografía completa\n",
        "def coreografia():\n",
        "    print(\"Inicia el baile de Golden\\n\")\n",
        "    combo()   # Primer bloque\n",
        "    combo()   # Segundo bloque\n",
        "    print(\"\\nPuente con énfasis en brazos\")\n",
        "    subir_bajar_brazos()\n",
        "    subir_bajar_brazos()\n",
        "    coordinacion()\n",
        "    cierre()\n",
        "    print(\"\\nFin de la coreografía\")\n",
        "\n",
        "# Ejecutar\n",
        "coreografia()"
      ]
    }
  ]
}