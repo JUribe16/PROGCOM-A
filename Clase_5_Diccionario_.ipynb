{
  "nbformat": 4,
  "nbformat_minor": 0,
  "metadata": {
    "colab": {
      "provenance": [],
      "authorship_tag": "ABX9TyN+kg1IX063ZVx88VO3NfQP",
      "include_colab_link": true
    },
    "kernelspec": {
      "name": "python3",
      "display_name": "Python 3"
    },
    "language_info": {
      "name": "python"
    }
  },
  "cells": [
    {
      "cell_type": "markdown",
      "metadata": {
        "id": "view-in-github",
        "colab_type": "text"
      },
      "source": [
        "<a href=\"https://colab.research.google.com/github/JUribe16/PROGCOM-A/blob/main/Clase_5_Diccionario_.ipynb\" target=\"_parent\"><img src=\"https://colab.research.google.com/assets/colab-badge.svg\" alt=\"Open In Colab\"/></a>"
      ]
    },
    {
      "cell_type": "markdown",
      "source": [
        "###DICCIONARIOS\n",
        "Un tipo de datos que tiene como sintaxis:\n",
        "\n",
        "\n",
        "\n",
        "```\n",
        "Nombre_dict={}\n",
        "dict2={\"clave\" : valor}\n",
        "```\n",
        "\n",
        "\n",
        "*   La \"clave o llave\": siempre es alfanumérica\n",
        "*   Valor: Puede ser cualquier tipo de dato\n",
        "\n",
        "Posee las siguientes características\n",
        "1. No tiene indexación\n"
      ],
      "metadata": {
        "id": "5Y1Pwrjnfhuj"
      }
    },
    {
      "cell_type": "code",
      "source": [
        "Lista=list(range(1,11))\n",
        "Lista[5]"
      ],
      "metadata": {
        "colab": {
          "base_uri": "https://localhost:8080/"
        },
        "id": "hAomo7FagDvj",
        "outputId": "9ea71cba-abf9-4293-b310-afcf7afa1cb5"
      },
      "execution_count": null,
      "outputs": [
        {
          "output_type": "execute_result",
          "data": {
            "text/plain": [
              "6"
            ]
          },
          "metadata": {},
          "execution_count": 2
        }
      ]
    },
    {
      "cell_type": "code",
      "source": [
        "liga_justicia={\"superhéroes\":[\"Supermán\",\"Batman\",\"Wonder Woman\"],\n",
        "               \"villanos\": [\"Lex Luthor\", \"Joker\", \"Cheetah\"],\n",
        "               \"identidad secreta\":[\"Clark Kent\", \"Bruce Wayne\", \"Diana Prince\"]}"
      ],
      "metadata": {
        "id": "9D2oxefhhT1R"
      },
      "execution_count": null,
      "outputs": []
    },
    {
      "cell_type": "code",
      "source": [
        "type(liga_justicia)"
      ],
      "metadata": {
        "colab": {
          "base_uri": "https://localhost:8080/"
        },
        "id": "g0cbhhFtgV7C",
        "outputId": "b02d00d1-7088-4cc2-ac3a-9fe9d13fd60b"
      },
      "execution_count": null,
      "outputs": [
        {
          "output_type": "execute_result",
          "data": {
            "text/plain": [
              "dict"
            ]
          },
          "metadata": {},
          "execution_count": 5
        }
      ]
    },
    {
      "cell_type": "code",
      "source": [
        "liga_justicia"
      ],
      "metadata": {
        "colab": {
          "base_uri": "https://localhost:8080/"
        },
        "id": "nBQ7S5RGibvY",
        "outputId": "e663278a-2a60-44be-9264-4c491ff492b2"
      },
      "execution_count": null,
      "outputs": [
        {
          "output_type": "execute_result",
          "data": {
            "text/plain": [
              "{'superhéroes': ['Supermán', 'Batman', 'Wonder Woman'],\n",
              " 'villanos': ['Lex Luthor', 'Joker', 'Cheetah'],\n",
              " 'identidad secreta': ['Clark Kent', 'Bruce Wayne', 'Diana Prince']}"
            ]
          },
          "metadata": {},
          "execution_count": 6
        }
      ]
    },
    {
      "cell_type": "code",
      "source": [
        "liga_justicia [\"identidad secreta\"] [2]"
      ],
      "metadata": {
        "colab": {
          "base_uri": "https://localhost:8080/",
          "height": 35
        },
        "id": "zbM4l-leiebQ",
        "outputId": "d9f97944-63a8-47b9-a5a3-34cbbc4edb56"
      },
      "execution_count": null,
      "outputs": [
        {
          "output_type": "execute_result",
          "data": {
            "text/plain": [
              "'Diana Prince'"
            ],
            "application/vnd.google.colaboratory.intrinsic+json": {
              "type": "string"
            }
          },
          "metadata": {},
          "execution_count": 61
        }
      ]
    },
    {
      "cell_type": "markdown",
      "source": [
        "2. Puede almacenar cualquier tipo de valor\n",
        "3. Es mutable"
      ],
      "metadata": {
        "id": "uZzpqTJckxqH"
      }
    },
    {
      "cell_type": "code",
      "source": [
        "(print(\"la identidad secreta de batman es:\", liga_justicia [\"identidad secreta\"][1]))"
      ],
      "metadata": {
        "colab": {
          "base_uri": "https://localhost:8080/"
        },
        "id": "zc-AArxbk2ln",
        "outputId": "7ebc46cc-fc38-4fa0-b890-0168bbfd9278"
      },
      "execution_count": null,
      "outputs": [
        {
          "output_type": "stream",
          "name": "stdout",
          "text": [
            "la identidad secreta de batman es: Bruce Wayne\n"
          ]
        }
      ]
    },
    {
      "cell_type": "markdown",
      "source": [
        ".keys(): Método de los diccionarios que me permite adquirir todas las llaves o claves del diccionario\n",
        "\n",
        ".clear(): Método de los diccionarios que limpia todo el codigo mencionado\n",
        "\n",
        ".fromkeys(): Crea un nuevo diccionario de llaves itereavles y variables según lo que este en el (), solo se pueden insertar datos tipo string\n"
      ],
      "metadata": {
        "id": "6T8tvuzvmhxt"
      }
    },
    {
      "cell_type": "code",
      "source": [
        "liga_justicia.keys()"
      ],
      "metadata": {
        "colab": {
          "base_uri": "https://localhost:8080/"
        },
        "id": "lxtNHLd2mR7n",
        "outputId": "0d84cfa1-47c7-4466-e60a-f663223ecea2"
      },
      "execution_count": null,
      "outputs": [
        {
          "output_type": "execute_result",
          "data": {
            "text/plain": [
              "dict_keys(['superhéroes', 'villanos', 'identidad secreta'])"
            ]
          },
          "metadata": {},
          "execution_count": 72
        }
      ]
    },
    {
      "cell_type": "code",
      "source": [
        "liga_justicia.clear()"
      ],
      "metadata": {
        "id": "M5Gf0xwhnEBd"
      },
      "execution_count": null,
      "outputs": []
    },
    {
      "cell_type": "code",
      "source": [
        "liga_justicia.copy()"
      ],
      "metadata": {
        "colab": {
          "base_uri": "https://localhost:8080/"
        },
        "id": "a6eqRAZunVlk",
        "outputId": "7f07b61e-86c8-46bf-a1f1-f14f86aec5fd"
      },
      "execution_count": null,
      "outputs": [
        {
          "output_type": "execute_result",
          "data": {
            "text/plain": [
              "{}"
            ]
          },
          "metadata": {},
          "execution_count": 80
        }
      ]
    },
    {
      "cell_type": "code",
      "source": [
        "liga_justicia.fromkeys (\"superheroes\")"
      ],
      "metadata": {
        "colab": {
          "base_uri": "https://localhost:8080/"
        },
        "id": "sQGiYEE7op9E",
        "outputId": "b12cffcf-07cf-4585-ec3e-89a8de9739bc"
      },
      "execution_count": null,
      "outputs": [
        {
          "output_type": "execute_result",
          "data": {
            "text/plain": [
              "{'s': None, 'u': None, 'p': None, 'e': None, 'r': None, 'h': None, 'o': None}"
            ]
          },
          "metadata": {},
          "execution_count": 94
        }
      ]
    }
  ]
}